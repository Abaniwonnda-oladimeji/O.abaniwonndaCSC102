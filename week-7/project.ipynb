{
 "cells": [
  {
   "attachments": {},
   "cell_type": "markdown",
   "metadata": {},
   "source": [
    "<span style=\"font-size: 32px;\">PROJECT 1</span>"
   ]
  },
  {
   "cell_type": "code",
   "execution_count": 43,
   "metadata": {},
   "outputs": [
    {
     "name": "stdout",
     "output_type": "stream",
     "text": [
      "welcome to the office Adeniran Oluwatamilore!\n",
      "     S/N           SURNAME     FIRST NAME      DEPARTMENT  Unnamed: 4\n",
      "0    1.0          ADENIRAN  Oluwatamilore       Logistics         NaN\n",
      "1    2.0           ADEWUMI        Ayomide      Accounting         NaN\n",
      "2    3.0       ADOH-AJAGBE          Oshim        Delivery         NaN\n",
      "3    4.0  AGBAKURU- \\NWOGU    Chukwunonye      Accounting         NaN\n",
      "4    5.0         AGBAKWURU     Chiemeziem       Logistics         NaN\n",
      "5    6.0            AKINDE   Oluwatimehin      Accounting         NaN\n",
      "6    7.0            ARNIKA          Osose       Logistics         NaN\n",
      "7    8.0            ATELLY         Daniel        Delivery         NaN\n",
      "8    9.0             AZOGU      Onyekachi        Delivery         NaN\n",
      "9   10.0            BETURE         Shalom        Delivery         NaN\n",
      "10  11.0          CHUKWUMA           Nedi       Logistics         NaN\n",
      "11  12.0               EBI      Stephanie      Accounting         NaN\n",
      "12  13.0            EGBORO          Jason  Administration         NaN\n",
      "13  14.0           EJEDIMU         Edward        Delivery         NaN\n",
      "14  15.0             ELERI            Otu  Administration         NaN\n",
      "15  16.0               EZE     Onyinyechi  Administration         NaN\n",
      "16  17.0           EZEONYE    Makuochukwu       Logistics         NaN\n",
      "17  18.0              GIWA       Moyosore       Logistics         NaN\n",
      "18  19.0              ICHA        Ayonete      Accounting         NaN\n",
      "19  20.0            IKPATI           Eche      Accounting         NaN\n",
      "20  21.0         ILOENYOSI        Michael        Delivery         NaN\n",
      "21  22.0             IYAWE  Oluwadamilola        Delivery         NaN\n",
      "22  23.0           NWOKOLO       Chijindu       Logistics         NaN\n",
      "23  24.0         NWOTOKUBO         Joseph       Logistics         NaN\n",
      "24  25.0          OBASOGIE          Daisy      Accounting         NaN\n",
      "25  26.0              OBI          Samuel      Accounting         NaN\n",
      "26  27.0           OBIALOR          Betha      Accounting         NaN\n",
      "27  28.0           OGBONNA     Boluwatife        Delivery         NaN\n",
      "28  29.0         OIGBOCHIE           Mary        Delivery         NaN\n",
      "29  30.0      OKOCHA-OJEAH        Raphael  Administration         NaN\n",
      "30  31.0             OKOLO         Victor  Administration         NaN\n",
      "31  32.0             OKORO          Derek       Logistics         NaN\n",
      "32  33.0         OLOWOKERE        Akorede      Accounting         NaN\n",
      "33  34.0          OLUBUADE        Rasheed      Accounting         NaN\n",
      "34  35.0           OSEMEKE         Daniel      Accounting         NaN\n",
      "35  36.0             OSSAI   Mary-Cynthia       Logistics         NaN\n",
      "36  37.0             PETER         Owoede       Logistics         NaN\n",
      "37  38.0            QUADRI   Oluwafikunmi        Delivery         NaN\n",
      "38  39.0           UDE-IBE        Uchenna        Delivery         NaN\n",
      "39  40.0              UMEH          Ejike  Administration         NaN\n",
      "40   NaN               NaN            NaN             NaN         NaN\n"
     ]
    }
   ],
   "source": [
    "import pandas as pd\n",
    "df = pd.read_csv('jt-ventures.csv')\n",
    "firstname = input('what is your firstname?')\n",
    "\n",
    "surname = input('what is your surname?')\n",
    "\n",
    "department = input('what is your department?')\n",
    "for i in range(len(df['FIRST NAME'])):\n",
    "    if firstname == df['FIRST NAME'][i] and surname.upper() == df['SURNAME'][i] and department == df['DEPARTMENT'][i]:\n",
    "        print(f'welcome to the office {surname} {firstname}!')\n",
    "        print(df)\n",
    "        break\n",
    "    else:\n",
    "        print('im sorry you dont have access.')\n",
    "        break\n",
    "        \n"
   ]
  },
  {
   "attachments": {},
   "cell_type": "markdown",
   "metadata": {},
   "source": [
    "<span style=\"font-size: 32px;\">PROJECT 2</span>"
   ]
  },
  {
   "cell_type": "code",
   "execution_count": 15,
   "metadata": {},
   "outputs": [
    {
     "name": "stdout",
     "output_type": "stream",
     "text": [
      "your delivery charge is N2,000.\n"
     ]
    }
   ],
   "source": [
    "location = input(\"where will we be delivering to?\")\n",
    "weight = int(input(\"what is the weight of your package?\"))\n",
    "\n",
    "if location.lower() == 'epe' and weight >= 10:\n",
    "    print(\"your delivery charge is N2,000.\")\n",
    "elif location.lower() == 'epe' and weight < 10:\n",
    "    print(\"your delivery charge is N1,500.\")\n",
    "elif location.lower() == 'ibeju-lekki' and weight >= 10:\n",
    "    print(\"your delivery charge is N5,000.\")\n",
    "elif location.lower() == 'ibeju-lekki' and weight < 10:\n",
    "    print(\"your delivery charge is N4,000.\")\n",
    "else:\n",
    "    print(\"I'm afraid this program is not for you.\")\n"
   ]
  },
  {
   "attachments": {},
   "cell_type": "markdown",
   "metadata": {},
   "source": [
    "<span style=\"font-size: 32px;\">PROJECT 3</span>"
   ]
  },
  {
   "cell_type": "code",
   "execution_count": 54,
   "metadata": {},
   "outputs": [
    {
     "name": "stdout",
     "output_type": "stream",
     "text": [
      "[{'firstname': 'oladimeji'}, {'surname': 'abaniwonnda'}, {'jamb': 789}, {'math': 'a'}, {'english': 'b'}, {'physics': 'v'}]\n"
     ]
    }
   ],
   "source": [
    "import pandas as pd\n",
    "firstname = input('what is your first name?')\n",
    "surname = input('what is your surname?')\n",
    "course = input('are you applying for mass communication or computer science?')\n",
    "\n",
    "def computer_science():\n",
    "    math = input(\"what is your grade in math\")\n",
    "    english = input(\"what is your grade in english\")\n",
    "    physics = input(\"what is your grade in physics\")\n",
    "    check = input(\"do you have at least c's and above in subjects other than these three()(input y for yes and n for no)\")\n",
    "    jamb = int(input(\"what is your jamb score?\"))\n",
    "    fn = {'firstname':firstname}\n",
    "    sn = {'surname':surname}\n",
    "    jb = {'jamb':jamb}\n",
    "    mt = {'math':math}\n",
    "    eng = {'english':english}\n",
    "    phy = {'physics':physics}\n",
    "    my_list = []\n",
    "    my_list.append(fn)\n",
    "    my_list.append(sn)\n",
    "    my_list.append(jb)\n",
    "    my_list.append(mt)\n",
    "    my_list.append(eng)\n",
    "    my_list.append(phy)\n",
    "    print(f'{my_list}')\n",
    "    \n",
    "    \n",
    "    if jamb >= 230 and math.lower() in ['a', 'b', 'c'] and english.lower() in ['a', 'b', 'c'] and physics.lower() in ['a', 'b', 'c'] \\\n",
    "        and check.lower() == 'y':\n",
    "       \n",
    "\n",
    "       df = pd.DataFrame(my_list)\n",
    "       df.to_csv('accepted.csv')\n",
    "    else:\n",
    "        df = pd.DataFrame(my_list)\n",
    "        df.to_csv('not_accepted.csv')\n",
    "def mass_communication():\n",
    "    math = input(\"what is your grade in math\")\n",
    "    english = input(\"what is your grade in english\")\n",
    "    economics = input(\"what is your grade in economics\")\n",
    "    check = input(\"do you have at least c's and above in subjects other than these three()(input y for yes and n for no)\")\n",
    "    jamb = int(input(\"what is your jamb score?\"))\n",
    "\n",
    "    fn = {'firstname':firstname}\n",
    "    sn = {'surname':surname}\n",
    "    jb = {'jamb':jamb}\n",
    "    mt = {'math':math}\n",
    "    eng = {'english':english}\n",
    "    eco = {'economics':economics}\n",
    "    my_list = []\n",
    "    my_list.append(fn)\n",
    "    my_list.append(sn)\n",
    "    my_list.append(jb)\n",
    "    my_list.append(mt)\n",
    "    my_list.append(eng)\n",
    "    my_list.append(eco)\n",
    "    print(f'{my_list}')\n",
    "\n",
    "    \n",
    "    if jamb >= 220 and math.lower() in ['a', 'b', 'c'] and english.lower() in ['a', 'b', 'c'] and economics.lower() in ['a', 'b', 'c']\\\n",
    "         and check.lower() == 'y':\n",
    "       \n",
    "\n",
    "       df = pd.DataFrame(my_list)\n",
    "       df.to_csv('accepted.csv')\n",
    "    else:\n",
    "        df = pd.DataFrame(my_list)\n",
    "        df.to_csv('not_accepted.csv')\n",
    "if course.lower() == 'computer science':\n",
    "    computer_science()\n",
    "elif course.lower() == 'mass communication':\n",
    "    mass_communication()\n",
    "\n",
    "\n",
    "\n",
    "     "
   ]
  },
  {
   "cell_type": "code",
   "execution_count": null,
   "metadata": {},
   "outputs": [],
   "source": []
  }
 ],
 "metadata": {
  "kernelspec": {
   "display_name": "base",
   "language": "python",
   "name": "python3"
  },
  "language_info": {
   "codemirror_mode": {
    "name": "ipython",
    "version": 3
   },
   "file_extension": ".py",
   "mimetype": "text/x-python",
   "name": "python",
   "nbconvert_exporter": "python",
   "pygments_lexer": "ipython3",
   "version": "3.10.8"
  },
  "orig_nbformat": 4
 },
 "nbformat": 4,
 "nbformat_minor": 2
}
