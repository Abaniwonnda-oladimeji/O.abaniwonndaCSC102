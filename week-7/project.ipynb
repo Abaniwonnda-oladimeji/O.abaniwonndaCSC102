{
 "cells": [
  {
   "attachments": {},
   "cell_type": "markdown",
   "metadata": {},
   "source": [
    "<span style=\"font-size: 32px;\">PROJECT 1</span>"
   ]
  },
  {
   "cell_type": "code",
   "execution_count": 1,
   "metadata": {},
   "outputs": [
    {
     "name": "stdout",
     "output_type": "stream",
     "text": [
      "im sorry you dont have access.\n"
     ]
    }
   ],
   "source": [
    "import pandas as pd\n",
    "df = pd.read_csv('jt-ventures.csv')\n",
    "firstname = input('what is your firstname?')\n",
    "\n",
    "surname = input('what is your surname?')\n",
    "\n",
    "department = input('what is your department?')\n",
    "for i in range(len(df['FIRST NAME'])):\n",
    "    if firstname.capitalize() == df['FIRST NAME'][i] and surname.upper() == df['SURNAME'][i] and department == df['DEPARTMENT'][i]:\n",
    "        print(f'welcome to the office {surname} {firstname}!')\n",
    "        print(df)\n",
    "        break\n",
    "    else:\n",
    "        print('im sorry you dont have access.')\n",
    "        break\n",
    "        \n"
   ]
  },
  {
   "attachments": {},
   "cell_type": "markdown",
   "metadata": {},
   "source": [
    "<span style=\"font-size: 32px;\">PROJECT 2</span>"
   ]
  },
  {
   "cell_type": "code",
   "execution_count": 15,
   "metadata": {},
   "outputs": [
    {
     "name": "stdout",
     "output_type": "stream",
     "text": [
      "your delivery charge is N2,000.\n"
     ]
    }
   ],
   "source": [
    "location = input(\"where will we be delivering to?\")\n",
    "weight = int(input(\"what is the weight of your package?\"))\n",
    "\n",
    "if location.lower() == 'epe' and weight >= 10:\n",
    "    print(\"your delivery charge is N2,000.\")\n",
    "elif location.lower() == 'epe' and weight < 10:\n",
    "    print(\"your delivery charge is N1,500.\")\n",
    "elif location.lower() == 'ibeju-lekki' and weight >= 10:\n",
    "    print(\"your delivery charge is N5,000.\")\n",
    "elif location.lower() == 'ibeju-lekki' and weight < 10:\n",
    "    print(\"your delivery charge is N4,000.\")\n",
    "else:\n",
    "    print(\"I'm afraid this program is not for you.\")\n"
   ]
  },
  {
   "attachments": {},
   "cell_type": "markdown",
   "metadata": {},
   "source": [
    "<span style=\"font-size: 32px;\">PROJECT 3</span>"
   ]
  },
  {
   "cell_type": "code",
   "execution_count": 54,
   "metadata": {},
   "outputs": [
    {
     "name": "stdout",
     "output_type": "stream",
     "text": [
      "[{'firstname': 'oladimeji'}, {'surname': 'abaniwonnda'}, {'jamb': 789}, {'math': 'a'}, {'english': 'b'}, {'physics': 'v'}]\n"
     ]
    }
   ],
   "source": [
    "import pandas as pd\n",
    "firstname = input('what is your first name?')\n",
    "surname = input('what is your surname?')\n",
    "course = input('are you applying for mass communication or computer science?')\n",
    "\n",
    "def computer_science():\n",
    "    math = input(\"what is your grade in math\")\n",
    "    english = input(\"what is your grade in english\")\n",
    "    physics = input(\"what is your grade in physics\")\n",
    "    check = input(\"do you have at least c's and above in subjects other than these three()(input y for yes and n for no)\")\n",
    "    jamb = int(input(\"what is your jamb score?\"))\n",
    "    fn = {'firstname':firstname}\n",
    "    sn = {'surname':surname}\n",
    "    jb = {'jamb':jamb}\n",
    "    mt = {'math':math}\n",
    "    eng = {'english':english}\n",
    "    phy = {'physics':physics}\n",
    "    my_list = []\n",
    "    my_list.append(fn)\n",
    "    my_list.append(sn)\n",
    "    my_list.append(jb)\n",
    "    my_list.append(mt)\n",
    "    my_list.append(eng)\n",
    "    my_list.append(phy)\n",
    "    print(f'{my_list}')\n",
    "    \n",
    "    \n",
    "    if jamb >= 230 and math.lower() in ['a', 'b', 'c'] and english.lower() in ['a', 'b', 'c'] and physics.lower() in ['a', 'b', 'c'] \\\n",
    "        and check.lower() == 'y':\n",
    "       \n",
    "\n",
    "       df = pd.DataFrame(my_list)\n",
    "       df.to_csv('accepted.csv')\n",
    "    else:\n",
    "        df = pd.DataFrame(my_list)\n",
    "        df.to_csv('not_accepted.csv')\n",
    "def mass_communication():\n",
    "    math = input(\"what is your grade in math\")\n",
    "    english = input(\"what is your grade in english\")\n",
    "    economics = input(\"what is your grade in economics\")\n",
    "    check = input(\"do you have at least c's and above in subjects other than these three()(input y for yes and n for no)\")\n",
    "    jamb = int(input(\"what is your jamb score?\"))\n",
    "\n",
    "    fn = {'firstname':firstname}\n",
    "    sn = {'surname':surname}\n",
    "    jb = {'jamb':jamb}\n",
    "    mt = {'math':math}\n",
    "    eng = {'english':english}\n",
    "    eco = {'economics':economics}\n",
    "    my_list = []\n",
    "    my_list.append(fn)\n",
    "    my_list.append(sn)\n",
    "    my_list.append(jb)\n",
    "    my_list.append(mt)\n",
    "    my_list.append(eng)\n",
    "    my_list.append(eco)\n",
    "    print(f'{my_list}')\n",
    "\n",
    "    \n",
    "    if jamb >= 220 and math.lower() in ['a', 'b', 'c'] and english.lower() in ['a', 'b', 'c'] and economics.lower() in ['a', 'b', 'c']\\\n",
    "         and check.lower() == 'y':\n",
    "       \n",
    "\n",
    "       df = pd.DataFrame(my_list)\n",
    "       df.to_csv('accepted.csv')\n",
    "    else:\n",
    "        df = pd.DataFrame(my_list)\n",
    "        df.to_csv('not_accepted.csv')\n",
    "if course.lower() == 'computer science':\n",
    "    computer_science()\n",
    "elif course.lower() == 'mass communication':\n",
    "    mass_communication()\n",
    "\n",
    "\n",
    "\n",
    "     "
   ]
  },
  {
   "cell_type": "code",
   "execution_count": null,
   "metadata": {},
   "outputs": [],
   "source": []
  }
 ],
 "metadata": {
  "kernelspec": {
   "display_name": "base",
   "language": "python",
   "name": "python3"
  },
  "language_info": {
   "codemirror_mode": {
    "name": "ipython",
    "version": 3
   },
   "file_extension": ".py",
   "mimetype": "text/x-python",
   "name": "python",
   "nbconvert_exporter": "python",
   "pygments_lexer": "ipython3",
   "version": "3.10.8"
  },
  "orig_nbformat": 4
 },
 "nbformat": 4,
 "nbformat_minor": 2
}
