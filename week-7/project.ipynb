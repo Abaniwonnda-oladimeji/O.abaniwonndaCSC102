{
 "cells": [
  {
   "attachments": {},
   "cell_type": "markdown",
   "metadata": {},
   "source": [
    "<span style=\"font-size: 32px;\">PROJECT 1</span>"
   ]
  },
  {
   "cell_type": "code",
   "execution_count": null,
   "metadata": {},
   "outputs": [],
   "source": []
  },
  {
   "attachments": {},
   "cell_type": "markdown",
   "metadata": {},
   "source": [
    "<span style=\"font-size: 32px;\">PROJECT 2</span>"
   ]
  },
  {
   "cell_type": "code",
   "execution_count": 15,
   "metadata": {},
   "outputs": [
    {
     "name": "stdout",
     "output_type": "stream",
     "text": [
      "your delivery charge is N2,000.\n"
     ]
    }
   ],
   "source": [
    "location = input(\"where will we be delivering to?\")\n",
    "weight = int(input(\"what is the weight of your package?\"))\n",
    "\n",
    "if location.lower() == 'epe' and weight >= 10:\n",
    "    print(\"your delivery charge is N2,000.\")\n",
    "elif location.lower() == 'epe' and weight < 10:\n",
    "    print(\"your delivery charge is N1,500.\")\n",
    "elif location.lower() == 'ibeju-lekki' and weight >= 10:\n",
    "    print(\"your delivery charge is N5,000.\")\n",
    "elif location.lower() == 'ibeju-lekki' and weight < 10:\n",
    "    print(\"your delivery charge is N4,000.\")\n",
    "else:\n",
    "    print(\"I'm afraid this program is not for you.\")\n"
   ]
  },
  {
   "attachments": {},
   "cell_type": "markdown",
   "metadata": {},
   "source": [
    "<span style=\"font-size: 32px;\">PROJECT 3</span>"
   ]
  },
  {
   "cell_type": "code",
   "execution_count": 14,
   "metadata": {},
   "outputs": [
    {
     "name": "stdout",
     "output_type": "stream",
     "text": [
      "[{'firstname': 'oladimeji'}, {'surname': 'abaniwonnda'}, {'jamb': 120}, {'math': 'r'}, {'english': 'r'}, {'physics': 'n'}]\n"
     ]
    }
   ],
   "source": [
    "import pandas as pd\n",
    "firstname = input('what is your first name?')\n",
    "surname = input('what is your surname?')\n",
    "course = input('are you applying for mass communication or computer science?')\n",
    "math = input(\"what is your grade in math\")\n",
    "english = input(\"what is your grade in english\")\n",
    "check = input(\"do you have at least c's and above in subjects other than these three()(input y for yes and n for no)\")\n",
    "jamb = int(input(\"what is your jamb score?\"))\n",
    "def computer_science():\n",
    "    physics = input(\"what is your grade in physics\")\n",
    "    \n",
    "    if jamb >= 230 and math.lower() == 'a' or 'b' or 'c' and english.lower == 'a' or 'b' or 'c' and physics.lower()== 'a' or 'b' or 'c' and check.lower() == 'y':\n",
    "       fn = {'firstname':firstname}\n",
    "       sn = {'surname':surname}\n",
    "       jb = {'jamb':jamb}\n",
    "       mt = {'math':math}\n",
    "       eng = {'english':english}\n",
    "       phy = {'physics':physics}\n",
    "       my_list = []\n",
    "       my_list.append(fn)\n",
    "       my_list.append(sn)\n",
    "       my_list.append(jb)\n",
    "       my_list.append(mt)\n",
    "       my_list.append(eng)\n",
    "       my_list.append(phy)\n",
    "       print(f'{my_list}')\n",
    "\n",
    "       df = pd.DataFrame(my_list)\n",
    "       df.to_csv('accepted.csv')\n",
    "    else:\n",
    "        df = pd.DataFrame(my_list)\n",
    "        df.to_csv('not_accepted.csv')\n",
    "def mass_communication():\n",
    "    economics = input(\"what is your grade in economics\")\n",
    "\n",
    "    if jamb >= 220 and math.lower() == 'a' or 'b' or 'c' and english.lower == 'a' or 'b' or 'c' and economics.lower()== 'a' or 'b' or 'c' and check.lower() == 'y':\n",
    "       fn = {'firstname':firstname}\n",
    "       sn = {'surname':surname}\n",
    "       jb = {'jamb':jamb}\n",
    "       mt = {'math':math}\n",
    "       eng = {'english':english}\n",
    "       eco = {'physics':economics}\n",
    "       my_list = []\n",
    "       my_list.append(fn)\n",
    "       my_list.append(sn)\n",
    "       my_list.append(jb)\n",
    "       my_list.append(mt)\n",
    "       my_list.append(eng)\n",
    "       my_list.append(eco)\n",
    "       print(f'{my_list}')\n",
    "\n",
    "       df = pd.DataFrame(my_list)\n",
    "       df.to_csv('accepted.csv')\n",
    "    else:\n",
    "        df = pd.DataFrame(my_list)\n",
    "        df.to_csv('not_accepted.csv')\n",
    "if course.lower() == 'computer science':\n",
    "    computer_science()\n",
    "elif course.lower() == 'mass communication':\n",
    "    mass_communication()\n",
    "\n",
    "\n",
    "\n",
    "     "
   ]
  }
 ],
 "metadata": {
  "kernelspec": {
   "display_name": "base",
   "language": "python",
   "name": "python3"
  },
  "language_info": {
   "codemirror_mode": {
    "name": "ipython",
    "version": 3
   },
   "file_extension": ".py",
   "mimetype": "text/x-python",
   "name": "python",
   "nbconvert_exporter": "python",
   "pygments_lexer": "ipython3",
   "version": "3.10.8"
  },
  "orig_nbformat": 4
 },
 "nbformat": 4,
 "nbformat_minor": 2
}
