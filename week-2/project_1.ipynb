{
 "cells": [
  {
   "cell_type": "code",
   "execution_count": null,
   "metadata": {},
   "outputs": [],
   "source": [
    "#Simple interest\n",
    "t = int(input(\"what is the time in years?\"))\n",
    "r = int(input(\"what is the yearly rate?\"))\n",
    "p = int(input(\"what is the principal\"))\n",
    "a = p*(1+ r/100)*t\n",
    "print(a)"
   ]
  },
  {
   "cell_type": "code",
   "execution_count": 12,
   "metadata": {},
   "outputs": [
    {
     "name": "stdout",
     "output_type": "stream",
     "text": [
      "1819.7313436700395\n"
     ]
    }
   ],
   "source": [
    "#compound interest\n",
    "t = int(input(\"what is the time in years?\"))\n",
    "r = int(input(\"what is the yearly rate?\"))\n",
    "p = int(input(\"what is the principal\"))\n",
    "n = int(input(\"how many times is the money compounded yearly?\"))\n",
    "a = p*(1+r*0.01/n)**(n*t)\n",
    "print(a)"
   ]
  },
  {
   "cell_type": "code",
   "execution_count": 13,
   "metadata": {},
   "outputs": [],
   "source": [
    "#Annuity plan\n",
    "t = int(input(\"what is the time in years?\"))\n",
    "r = int(input(\"what is the yearly rate?\"))\n",
    "p = int(input(\"what is the principal\"))\n",
    "n = int(input(\"how many times is the money compounded yearly?\"))\n",
    "pmt = int(input(\"what is the pmt?\"))\n",
    "a = p*(1+r*0.01/n)**(n*t)\n",
    "A = pmt * (a-1)/(r*0.01/n )"
   ]
  }
 ],
 "metadata": {
  "kernelspec": {
   "display_name": "base",
   "language": "python",
   "name": "python3"
  },
  "language_info": {
   "codemirror_mode": {
    "name": "ipython",
    "version": 3
   },
   "file_extension": ".py",
   "mimetype": "text/x-python",
   "name": "python",
   "nbconvert_exporter": "python",
   "pygments_lexer": "ipython3",
   "version": "3.10.9"
  },
  "orig_nbformat": 4
 },
 "nbformat": 4,
 "nbformat_minor": 2
}
