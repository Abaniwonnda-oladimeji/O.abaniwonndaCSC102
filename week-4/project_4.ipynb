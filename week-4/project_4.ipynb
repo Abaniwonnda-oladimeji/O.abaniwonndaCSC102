{
 "cells": [
  {
   "cell_type": "code",
   "execution_count": null,
   "metadata": {},
   "outputs": [],
   "source": [
    "#algorithm to find the root of a cubic equation\n",
    "\n",
    "a = input(\"what is your a value\")\n",
    "b = input(\"what is your b value\")\n",
    "c = input(\"what is your c value\")\n",
    "d = input(\"what is your d value\")\n",
    "\n",
    "Q = (3*c - b**2)/9\n",
    "R = (9*b*c - 27*d - 2*(b**3))/54\n",
    "S = (R+((Q**3 + R**2)**0.5))**1/3\n",
    "S = (R-((Q**3 + R**2)**0.5))**1/3\n",
    "\n",
    "let firstroot = S + T - b/3\n",
    "let secondroot = -0.5(S+T)-(b/3)+0.5\n",
    "\n",
    "\n"
   ]
  },
  {
   "attachments": {},
   "cell_type": "markdown",
   "metadata": {},
   "source": [
    "<span style=\"font-size: 32px;\">PROJECT 2</span>\n"
   ]
  },
  {
   "cell_type": "code",
   "execution_count": 5,
   "metadata": {},
   "outputs": [
    {
     "name": "stdout",
     "output_type": "stream",
     "text": [
      "the first root of your quadratic equation is -1.0\n",
      "the second root of your quadratic equation is -1.0\n"
     ]
    }
   ],
   "source": [
    "#code to find the roots of a quadratic equation\n",
    "\n",
    "a = int(input('what is your a value?'))\n",
    "b = int(input('what is your b value?'))\n",
    "c = int(input('what is your c value?'))\n",
    "d = 0.5\n",
    "\n",
    "\n",
    "firstroot = (-b + (b**2 - 4*a*c)**d)/(2*a)\n",
    "secondroot = (-b - (b**2 - 4*a*c)**d)/(2*a)\n",
    "\n",
    "print(f'the first root of your quadratic equation is {firstroot}')\n",
    "print(f'the second root of your quadratic equation is {secondroot}')"
   ]
  }
 ],
 "metadata": {
  "kernelspec": {
   "display_name": "Python 3",
   "language": "python",
   "name": "python3"
  },
  "language_info": {
   "codemirror_mode": {
    "name": "ipython",
    "version": 3
   },
   "file_extension": ".py",
   "mimetype": "text/x-python",
   "name": "python",
   "nbconvert_exporter": "python",
   "pygments_lexer": "ipython3",
   "version": "3.10.8"
  },
  "orig_nbformat": 4
 },
 "nbformat": 4,
 "nbformat_minor": 2
}
