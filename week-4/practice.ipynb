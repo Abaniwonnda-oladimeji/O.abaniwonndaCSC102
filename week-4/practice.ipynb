{
 "cells": [
  {
   "cell_type": "code",
   "execution_count": null,
   "metadata": {},
   "outputs": [],
   "source": []
  },
  {
   "cell_type": "code",
   "execution_count": 2,
   "metadata": {},
   "outputs": [
    {
     "name": "stdout",
     "output_type": "stream",
     "text": [
      "enter name of city 1:gj\n",
      "enter name of city 2:fg\n",
      "the name ofcity 1 after swapping is fg\n",
      "the name ofcity 2 after swapping is gj\n"
     ]
    }
   ],
   "source": [
    "#python program to swap two cities\n",
    "\n",
    "#to take inputs from the user\n",
    "city_1 = input('enter name of city 1:')\n",
    "city_2 = input('enter name of city 2:')\n",
    "\n",
    "temp = city_1\n",
    "city_1 = city_2\n",
    "city_2 = temp\n",
    "\n",
    "print(f\"the name ofcity 1 after swapping is {city_1}\")\n",
    "print(f\"the name ofcity 2 after swapping is {city_2}\")"
   ]
  },
  {
   "cell_type": "code",
   "execution_count": 3,
   "metadata": {},
   "outputs": [
    {
     "name": "stdout",
     "output_type": "stream",
     "text": [
      "enter a number: 353\n",
      "positive number\n"
     ]
    }
   ],
   "source": [
    "#program to check if a number is positive negative or 0\n",
    "num = float(input('enter a number: '))\n",
    "if num > 0:\n",
    "    print('positive number')\n",
    "elif num == 0:\n",
    "    print('zero')\n",
    "else:\n",
    "    print('Negative number')"
   ]
  },
  {
   "cell_type": "code",
   "execution_count": 4,
   "metadata": {},
   "outputs": [
    {
     "name": "stdout",
     "output_type": "stream",
     "text": [
      "welcome to the coupe de escriva 2023: football picks\n",
      "\n",
      "madiba:  chubby obiora-okafo\n",
      "blue-jays:  Christopher uweh\n",
      "cirok:  Alexander\n",
      "Tsg walkers: Ikechukwu\n",
      "\n",
      "\n",
      "madiba:  chubby obiora-okafo\n",
      "blue-jays: oladimeji abaniwonnda/jeffrey awagu\n",
      "cirok: Timilehin pearse/izuako jeremy\n",
      "Tsg walkers: Ayomide ojikutu\n"
     ]
    }
   ],
   "source": [
    "#coupe de escriva 2023: football picks\n",
    "print('welcome to the coupe de escriva 2023: football picks\\n')\n",
    "\n",
    "captain = {'madiba: ': 'chubby obiora-okafo','blue-jays: ': 'Christopher uweh','cirok: ':'Alexander','Tsg walkers:':'Ikechukwu'}\n",
    "goalkeepers = {'madiba: ': 'chubby obiora-okafo','blue-jays:':'oladimeji abaniwonnda/jeffrey awagu','cirok:':'Timilehin pearse/izuako jeremy','Tsg walkers:':'Ayomide ojikutu'}\n",
    "\n",
    "for pick in captain:\n",
    "    print(pick,captain[pick])\n",
    "    \n",
    "print('\\n')\n",
    "\n",
    "for pick in goalkeepers:\n",
    "    print(pick, goalkeepers[pick])"
   ]
  },
  {
   "cell_type": "code",
   "execution_count": null,
   "metadata": {},
   "outputs": [],
   "source": []
  }
 ],
 "metadata": {
  "kernelspec": {
   "display_name": "Python 3",
   "language": "python",
   "name": "python3"
  },
  "language_info": {
   "codemirror_mode": {
    "name": "ipython",
    "version": 3
   },
   "file_extension": ".py",
   "mimetype": "text/x-python",
   "name": "python",
   "nbconvert_exporter": "python",
   "pygments_lexer": "ipython3",
   "version": "3.8.5"
  }
 },
 "nbformat": 4,
 "nbformat_minor": 4
}
