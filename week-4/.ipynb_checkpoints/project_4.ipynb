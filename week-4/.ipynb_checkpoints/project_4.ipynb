{
 "cells": [
  {
   "cell_type": "code",
   "execution_count": null,
   "metadata": {},
   "outputs": [],
   "source": [
    "#algorithm to find the root of a cubic equation\n",
    "\n",
    "a = input(\"what is your a value\")\n",
    "b = input(\"what is your b value\")\n",
    "c = input(\"what is your c value\")\n",
    "d = input(\"what is your d value\")\n",
    "\n",
    "Q = (3*c - b**2)/9\n",
    "R = (9*b*c - 27*d - 2*(b**3))/54\n",
    "S = (R+((Q**3 + R**2)**0.5))**1/3\n",
    "S = (R-((Q**3 + R**2)**0.5))**1/3\n",
    "\n",
    "let firstroot = S + T - b/3\n",
    "let secondroot = -0.5(S+T)-(b/3)+0.5\n",
    "\n",
    "\n"
   ]
  }
 ],
 "metadata": {
  "language_info": {
   "name": "python"
  },
  "orig_nbformat": 4
 },
 "nbformat": 4,
 "nbformat_minor": 2
}
