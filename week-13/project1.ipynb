{
 "cells": [
  {
   "cell_type": "code",
   "execution_count": 18,
   "metadata": {},
   "outputs": [
    {
     "name": "stdout",
     "output_type": "stream",
     "text": [
      "please input y or n\n",
      "please input y or n\n",
      "thank you for using this program!\n",
      "file created successfuly\n"
     ]
    }
   ],
   "source": [
    "import pandas as pd\n",
    "class sims():\n",
    "    def __init__(self):\n",
    "        self.lystnameinp = []\n",
    "        self.lystmatricinp = []\n",
    "        self.lystdepartmentinp = []\n",
    "        self.lystlevelinp = []\n",
    "        \n",
    "    \n",
    "        \n",
    "    def folder(self):\n",
    "        folder = {}\n",
    "        folder['Matric.Number'] = self.lystmatricinp\n",
    "        folder['Student Name'] = self.lystnameinp\n",
    "        folder['Department'] = self.lystdepartmentinp\n",
    "        folder['Level'] = self.lystlevelinp\n",
    "        \n",
    "        df = pd.DataFrame(folder)   \n",
    "        df.to_csv('SIMS.csv', index_label= 'No', na_rep = 'N/A')\n",
    "        print('file created successfuly')\n",
    "\n",
    "   \n",
    "\n",
    "    def Request(self):\n",
    "                global request\n",
    "                request = input('input y to input details for another student, input N to end the program and make csv file')\n",
    "                if request.lower() == 'n':\n",
    "                    print('thank you for using this program!')\n",
    "                    return False\n",
    "                elif request.lower() == 'y':\n",
    "                    return True\n",
    "                else:\n",
    "                    print('please input y or n')\n",
    "                    return self.Request()\n",
    "                \n",
    "    def inps(self):\n",
    "        while True:\n",
    "            nameinp = input('please enter your name')\n",
    "            self.lystnameinp.append(nameinp)\n",
    "            matricinp = input('please enter your matricno')\n",
    "            self.lystmatricinp.append(matricinp)\n",
    "            departmentinp = input('please enter your department')\n",
    "            self.lystdepartmentinp.append(departmentinp)\n",
    "            levelinp = input('please enter your level')\n",
    "            self.lystlevelinp.append(levelinp)\n",
    "            \n",
    "            if not self.Request():\n",
    "                return False     \n",
    "   \n",
    "\n",
    "\n",
    "code = sims()\n",
    "code.inps()\n",
    "code.folder()\n",
    "        \n",
    "    "
   ]
  },
  {
   "cell_type": "code",
   "execution_count": null,
   "metadata": {},
   "outputs": [],
   "source": []
  }
 ],
 "metadata": {
  "kernelspec": {
   "display_name": "Python 3",
   "language": "python",
   "name": "python3"
  },
  "language_info": {
   "codemirror_mode": {
    "name": "ipython",
    "version": 3
   },
   "file_extension": ".py",
   "mimetype": "text/x-python",
   "name": "python",
   "nbconvert_exporter": "python",
   "pygments_lexer": "ipython3",
   "version": "3.10.8"
  },
  "orig_nbformat": 4
 },
 "nbformat": 4,
 "nbformat_minor": 2
}
