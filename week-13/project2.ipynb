{
 "cells": [
  {
   "cell_type": "code",
   "execution_count": 11,
   "metadata": {},
   "outputs": [
    {
     "name": "stdout",
     "output_type": "stream",
     "text": [
      "welcome, Displayed is an excel file of the companys names, liabilities, assets and percentage leverage\n",
      "    Company  Date  Company's shares  Company's liabilities   \n",
      "0     Enron  1987           1000000                 200000  \\\n",
      "1  Anderson  1936           1500000                 500000   \n",
      "2  GK Jones  2001           3000000                1500000   \n",
      "3      Mica  1996            250000                  50000   \n",
      "4      Dune  2008            800000                 300000   \n",
      "\n",
      "   Percentage leverage  \n",
      "0            80.000000  \n",
      "1            66.666667  \n",
      "2            50.000000  \n",
      "3            80.000000  \n",
      "4            62.500000  \n"
     ]
    }
   ],
   "source": [
    "import pandas as pd\n",
    "class project( ):\n",
    "    def __init__(self, company,date, assets, liabilities, ):\n",
    "        self.company = company\n",
    "        self.date = date\n",
    "        self.assets = assets\n",
    "        self.liabilities = liabilities\n",
    "        \n",
    "    def file(self):\n",
    "        lev = []\n",
    "        lyst = {}\n",
    "        lyst['Company'] = self.company\n",
    "        lyst['Date'] = self.date\n",
    "        lyst[\"Company's shares\"] = self.assets\n",
    "        lyst[\"Company's liabilities\"] = self.liabilities\n",
    "               \n",
    "        for i in range(len(self.company)):\n",
    "            lev.append(((self.assets[i] - self.liabilities[i])/self.assets[i])*100)\n",
    "        lyst['Percentage leverage'] = lev\n",
    "        \n",
    "        global df\n",
    "        df = pd.DataFrame(lyst)\n",
    "        df.to_csv('COMPANY RECORDS.csv', index_label = 'No')\n",
    "        \n",
    "company = ['Enron','Anderson','GK Jones','Mica','Dune']\n",
    "date = [1987,1936,2001,1996,2008]   \n",
    "assets = [1000000,1500000,3000000,250000,800000]\n",
    "liabilities = [200000,500000,1500000,50000,300000]\n",
    "code = project(company,date,assets,liabilities)\n",
    "code.file()\n",
    "print('welcome, Displayed is an excel file of the companys names, liabilities, assets and percentage leverage.')\n",
    "print(df)\n",
    "            "
   ]
  },
  {
   "cell_type": "code",
   "execution_count": null,
   "metadata": {},
   "outputs": [],
   "source": []
  }
 ],
 "metadata": {
  "kernelspec": {
   "display_name": "Python 3",
   "language": "python",
   "name": "python3"
  },
  "language_info": {
   "codemirror_mode": {
    "name": "ipython",
    "version": 3
   },
   "file_extension": ".py",
   "mimetype": "text/x-python",
   "name": "python",
   "nbconvert_exporter": "python",
   "pygments_lexer": "ipython3",
   "version": "3.10.8"
  },
  "orig_nbformat": 4
 },
 "nbformat": 4,
 "nbformat_minor": 2
}
