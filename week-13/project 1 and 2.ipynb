{
 "cells": [
  {
   "cell_type": "code",
   "execution_count": 17,
   "metadata": {},
   "outputs": [
    {
     "name": "stdout",
     "output_type": "stream",
     "text": [
      "welcome, Displayed is an excel file of the companys names, liabilities, assets and percentage leverage.\n",
      "    Company  Date  Company's shares  Company's liabilities Percentage leverage\n",
      "0     Enron  1987           1000000                 200000               80.0%\n",
      "1  Anderson  1936           1500000                 500000              66.67%\n",
      "2  GK Jones  2001           3000000                1500000               50.0%\n",
      "3      Mica  1996            250000                  50000               80.0%\n",
      "4      Dune  2008            800000                 300000               62.5%\n"
     ]
    }
   ],
   "source": [
    "import pandas as pd\n",
    "class project( ):\n",
    "    def __init__(self, company,date, assets, liabilities, ):\n",
    "        self.company = company\n",
    "        self.date = date\n",
    "        self.assets = assets\n",
    "        self.liabilities = liabilities\n",
    "        \n",
    "    def file(self):\n",
    "        lev = []\n",
    "        lyst = {}\n",
    "        lyst['Company'] = self.company\n",
    "        lyst['Date'] = self.date\n",
    "        lyst[\"Company's shares\"] = self.assets\n",
    "        lyst[\"Company's liabilities\"] = self.liabilities\n",
    "               \n",
    "        for i in range(len(self.company)):\n",
    "            lev.append(str(round((((self.assets[i] - self.liabilities[i])/self.assets[i])*100),2)) +'%')\n",
    "        lyst['Percentage leverage'] = lev\n",
    "        \n",
    "        global df\n",
    "        df = pd.DataFrame(lyst)\n",
    "        df.to_csv('COMPANY RECORDS.csv', index_label = 'No')\n",
    "        \n",
    "company = ['Enron','Anderson','GK Jones','Mica','Dune']\n",
    "date = [1987,1936,2001,1996,2008]   \n",
    "assets = [1000000,1500000,3000000,250000,800000]\n",
    "liabilities = [200000,500000,1500000,50000,300000]\n",
    "code = project(company,date,assets,liabilities)\n",
    "code.file()\n",
    "print('welcome, Displayed is an excel file of the companys names, liabilities, assets and percentage leverage.')\n",
    "print(df)\n",
    "            "
   ]
  },
  {
   "cell_type": "code",
   "execution_count": null,
   "metadata": {},
   "outputs": [],
   "source": [
    "import pandas as pd\n",
    "class sims():\n",
    "    def __init__(self):\n",
    "        self.lystnameinp = []\n",
    "        self.lystmatricinp = []\n",
    "        self.lystdepartmentinp = []\n",
    "        self.lystlevelinp = []\n",
    "             \n",
    "    def folder(self):\n",
    "        folder = {}\n",
    "        folder['Matric.Number'] = self.lystmatricinp\n",
    "        folder['Student Name'] = self.lystnameinp\n",
    "        folder['Department'] = self.lystdepartmentinp\n",
    "        folder['Level'] = self.lystlevelinp\n",
    "        \n",
    "        df = pd.DataFrame(folder)   \n",
    "        df.to_csv('SIMS.csv', index_label= 'No', na_rep = 'N/A')\n",
    "        print('file created successfuly')\n",
    "\n",
    "    def Request(self):\n",
    "                global request\n",
    "                request = input('input y to input details for another student, input N to end the program and make csv file')\n",
    "                if request.lower() == 'n':\n",
    "                    print('thank you for using this program!')\n",
    "                    return False\n",
    "                elif request.lower() == 'y':\n",
    "                    return True\n",
    "                else:\n",
    "                    print('please input y or n')\n",
    "                    return self.Request()\n",
    "                \n",
    "    def inps(self):\n",
    "        while True:\n",
    "            nameinp = input('please enter your name')\n",
    "            self.lystnameinp.append(nameinp)\n",
    "            matricinp = input('please enter your matricno')\n",
    "            self.lystmatricinp.append(matricinp)\n",
    "            departmentinp = input('please enter your department')\n",
    "            self.lystdepartmentinp.append(departmentinp)\n",
    "            levelinp = input('please enter your level')\n",
    "            self.lystlevelinp.append(levelinp)\n",
    "            \n",
    "            if not self.Request():\n",
    "                return False     \n",
    "\n",
    "code = sims()\n",
    "code.inps()\n",
    "code.folder()\n",
    "        \n",
    "    "
   ]
  }
 ],
 "metadata": {
  "kernelspec": {
   "display_name": "Python 3",
   "language": "python",
   "name": "python3"
  },
  "language_info": {
   "codemirror_mode": {
    "name": "ipython",
    "version": 3
   },
   "file_extension": ".py",
   "mimetype": "text/x-python",
   "name": "python",
   "nbconvert_exporter": "python",
   "pygments_lexer": "ipython3",
   "version": "3.10.8"
  },
  "orig_nbformat": 4
 },
 "nbformat": 4,
 "nbformat_minor": 2
}
