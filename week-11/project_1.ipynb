{
 "cells": [
  {
   "cell_type": "code",
   "execution_count": 20,
   "metadata": {},
   "outputs": [
    {
     "name": "stdout",
     "output_type": "stream",
     "text": [
      "your total cost is 1800 \n"
     ]
    }
   ],
   "source": [
    "class orange():\n",
    "    def __init__(self,number):\n",
    "        self.number = number\n",
    "        \n",
    "    def cost(self):\n",
    "        price = 200\n",
    "        print(f'your total cost is {price*self.number} ')\n",
    "        \n",
    "       \n",
    "stock_quantity = 20        \n",
    "def solve():\n",
    "    global no\n",
    "    try:\n",
    "        no = int(input('how many oranges do you want?'))\n",
    "        if no <= stock_quantity:\n",
    "            return True\n",
    "        else:\n",
    "            return False\n",
    "    except ValueError:\n",
    "        print('invalid input, input a number.')\n",
    "        return False\n",
    "        \n",
    "while solve() == False:\n",
    "    print('sorry we do not have that many oranges, input another number')\n",
    "obj = orange(no)\n",
    "obj.cost()\n",
    "\n",
    "import pandas as pd\n",
    "class Nigerian_Brewery():\n",
    "    def __init__(self,lager,stout,non_alc):\n",
    "        self.lager = lager\n",
    "        self.stout= stout\n",
    "        self.non_alc = non_alc\n",
    "        \n",
    "    def csv(self):\n",
    "        lag = pd.DataFrame(self.lager)\n",
    "        sto = pd.DataFrame(self.stout)\n",
    "        alc = pd.DataFrame(self.non_alc)\n",
    "        with open('nigerian_brewere_limited.csv', 'a') as f:\n",
    "            lag.to_csv(f, index = False)\n",
    "            sto.to_csv(f, index = False)\n",
    "            alc.to_csv(f, index = False)\n",
    "            \n",
    "lagerdrink = ['33export','desperados','Goldberg','Guider','Heineken','Star']\n",
    "stoutdrink = ['Legend','Turbo king','Williams']\n",
    "non_alcoholicdrink = ['Maltina','Amstel Malta','Malta Gold','Fayrouz']\n",
    "\n",
    "obj = Nigerian_Brewery(lagerdrink,stoutdrink,non_alcoholicdrink)\n",
    "obj.csv()\n",
    "    \n",
    "\n",
    "    \n",
    "    \n",
    "    \n",
    "    \n",
    "    \n",
    "    \n",
    "    \n",
    "    \n",
    "    \n",
    "    \n",
    "    \n",
    "    \n"
   ]
  },
  {
   "cell_type": "code",
   "execution_count": null,
   "metadata": {},
   "outputs": [],
   "source": []
  },
  {
   "cell_type": "code",
   "execution_count": null,
   "metadata": {},
   "outputs": [],
   "source": []
  }
 ],
 "metadata": {
  "kernelspec": {
   "display_name": "base",
   "language": "python",
   "name": "python3"
  },
  "language_info": {
   "codemirror_mode": {
    "name": "ipython",
    "version": 3
   },
   "file_extension": ".py",
   "mimetype": "text/x-python",
   "name": "python",
   "nbconvert_exporter": "python",
   "pygments_lexer": "ipython3",
   "version": "3.10.9"
  },
  "orig_nbformat": 4
 },
 "nbformat": 4,
 "nbformat_minor": 2
}
