{
 "cells": [
  {
   "cell_type": "code",
   "execution_count": 20,
   "metadata": {},
   "outputs": [
    {
     "name": "stdout",
     "output_type": "stream",
     "text": [
      "your total cost is 1800 \n"
     ]
    }
   ],
   "source": [
    "class orange():\n",
    "    def __init__(self,number):\n",
    "        self.number = number\n",
    "        \n",
    "    def cost(self):\n",
    "        price = 200\n",
    "        print(f'your total cost is {price*self.number} ')\n",
    "        \n",
    "       \n",
    "stock_quantity = 20        \n",
    "def solve():\n",
    "    global no\n",
    "    try:\n",
    "        no = int(input('how many oranges do you want?'))\n",
    "        if no <= stock_quantity:\n",
    "            return True\n",
    "        else:\n",
    "            return False\n",
    "    except ValueError:\n",
    "        print('invalid input, input a number.')\n",
    "        return False\n",
    "        \n",
    "while solve() == False:\n",
    "    print('sorry we do not have that many oranges, input another number')\n",
    "obj = orange(no)\n",
    "obj.cost()\n",
    "    \n",
    "\n",
    "    \n",
    "    \n",
    "    \n",
    "    \n",
    "    \n",
    "    \n",
    "    \n",
    "    \n",
    "    \n",
    "    \n",
    "    \n",
    "    \n"
   ]
  },
  {
   "cell_type": "code",
   "execution_count": null,
   "metadata": {},
   "outputs": [],
   "source": []
  },
  {
   "cell_type": "code",
   "execution_count": null,
   "metadata": {},
   "outputs": [],
   "source": []
  }
 ],
 "metadata": {
  "kernelspec": {
   "display_name": "base",
   "language": "python",
   "name": "python3"
  },
  "language_info": {
   "codemirror_mode": {
    "name": "ipython",
    "version": 3
   },
   "file_extension": ".py",
   "mimetype": "text/x-python",
   "name": "python",
   "nbconvert_exporter": "python",
   "pygments_lexer": "ipython3",
   "version": "3.10.9"
  },
  "orig_nbformat": 4
 },
 "nbformat": 4,
 "nbformat_minor": 2
}
