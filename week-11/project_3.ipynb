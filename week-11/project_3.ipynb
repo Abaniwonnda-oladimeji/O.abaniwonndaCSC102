{
 "cells": [
  {
   "cell_type": "code",
   "execution_count": 7,
   "metadata": {},
   "outputs": [
    {
     "name": "stdout",
     "output_type": "stream",
     "text": [
      "written successfully\n"
     ]
    }
   ],
   "source": [
    "import pandas as pd\n",
    "class Nigerian_Brewery():\n",
    "    def __init__(self,drink):\n",
    "       self.drink = drink\n",
    "        \n",
    "    def csv(self):\n",
    "        df = pd.DataFrame(self.drink)\n",
    "        filename = 'nigerian_brewery_limited.csv'\n",
    "        df.to_csv(filename, index = False)\n",
    "        print('written successfully')\n",
    "            \n",
    "drinks = {'lagerdrink' : ['33export','desperados','Goldberg','Guider','Heineken','Star'], \n",
    "          'stoutdrink' : ['Legend','Turbo king','Williams','','',''] ,\n",
    "          'non_alcoholicdrink' : ['Maltina','Amstel Malta','Malta Gold','Fayrouz','','']}\n",
    "\n",
    "obj = Nigerian_Brewery(drinks)\n",
    "obj.csv()\n",
    "            \n",
    "    "
   ]
  },
  {
   "cell_type": "code",
   "execution_count": null,
   "metadata": {},
   "outputs": [],
   "source": []
  }
 ],
 "metadata": {
  "kernelspec": {
   "display_name": "base",
   "language": "python",
   "name": "python3"
  },
  "language_info": {
   "codemirror_mode": {
    "name": "ipython",
    "version": 3
   },
   "file_extension": ".py",
   "mimetype": "text/x-python",
   "name": "python",
   "nbconvert_exporter": "python",
   "pygments_lexer": "ipython3",
   "version": "3.10.9"
  },
  "orig_nbformat": 4
 },
 "nbformat": 4,
 "nbformat_minor": 2
}
