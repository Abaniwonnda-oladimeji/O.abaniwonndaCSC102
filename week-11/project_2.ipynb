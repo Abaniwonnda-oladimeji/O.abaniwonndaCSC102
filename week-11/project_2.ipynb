{
 "cells": [
  {
   "cell_type": "code",
   "execution_count": 1,
   "metadata": {},
   "outputs": [
    {
     "name": "stdout",
     "output_type": "stream",
     "text": [
      "45.0\n"
     ]
    }
   ],
   "source": [
    "import math\n",
    "class mathematics:\n",
    "    def __init__(self,number):\n",
    "        self.number = number\n",
    "        \n",
    "        \n",
    "    def Trapezium(self):\n",
    "        a = int(input('what is your height?'))\n",
    "        b1 = int(input('what is your first base?'))\n",
    "        b2 = int(input('what is your second base?'))\n",
    "        formula = 0.5 * a * (b1 + b2)#\n",
    "        print(formula)\n",
    "                 \n",
    "                 \n",
    "    def Rhombus(self):\n",
    "        a = int(input('what is your first diagonal?'))\n",
    "        b = int(input('what is your second diagonal'))\n",
    "        formula = 0.5 * a * b\n",
    "        print(formula)\n",
    "        \n",
    "    def Parallelogram(self):\n",
    "        a = int(input('what is your alititude'))\n",
    "        b = int(input('what is your base'))\n",
    "        formula = a * b\n",
    "        print (formula)\n",
    "        \n",
    "    def cube(self):\n",
    "        a = int(input('what is the length of each side'))\n",
    "        formula = 6 *(a**2)\n",
    "        print(formula)\n",
    "        \n",
    "    def cylinder(self):\n",
    "        a = int(input('what is your radius'))\n",
    "        b = int(input('what is your height'))\n",
    "        formula = math.pi *(a ** 2) * b\n",
    "        print(formula)\n",
    "a = int(input('1 for trapezium, 2 for rhombus, 3 for parallelogram, 4 for cube, 5 for cylinder'))\n",
    "\n",
    "program = mathematics(a)\n",
    "\n",
    "if a == 1:\n",
    "    program.Trapezium()\n",
    "elif a == 2:\n",
    "    program.Rhombus\n",
    "elif a == 3:\n",
    "    program.Parallelogram()\n",
    "elif a == 4:\n",
    "    program.cube()\n",
    "elif a == 5:\n",
    "    program.cylinder()\n",
    "else:\n",
    "    print('invalid input!')        "
   ]
  },
  {
   "cell_type": "code",
   "execution_count": null,
   "metadata": {},
   "outputs": [],
   "source": []
  }
 ],
 "metadata": {
  "kernelspec": {
   "display_name": "base",
   "language": "python",
   "name": "python3"
  },
  "language_info": {
   "codemirror_mode": {
    "name": "ipython",
    "version": 3
   },
   "file_extension": ".py",
   "mimetype": "text/x-python",
   "name": "python",
   "nbconvert_exporter": "python",
   "pygments_lexer": "ipython3",
   "version": "3.10.9"
  },
  "orig_nbformat": 4
 },
 "nbformat": 4,
 "nbformat_minor": 2
}
