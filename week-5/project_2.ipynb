{
 "cells": [
  {
   "cell_type": "code",
   "execution_count": 3,
   "metadata": {},
   "outputs": [
    {
     "name": "stdout",
     "output_type": "stream",
     "text": [
      "your annual tax revenue is N1,500,000\n"
     ]
    }
   ],
   "source": [
    "exp = int(input(\"how many years of experience do you have\"))\n",
    "age = int(input(\"what is your age \"))\n",
    "\n",
    "if exp > 25 and age >= 55:\n",
    "    print(\"your annual tax revenue is N5,600,000\")\n",
    "elif exp > 20 and age >= 45 and age < 55:\n",
    "    print(\"your annual tax revenue is N4,480,000\")\n",
    "elif exp > 10 and age >= 35 and age < 45:\n",
    "    print(\"your annual tax revenue is N1,500,000\")\n",
    "elif exp < 10 and age < 35:\n",
    "    print(\"your annual tax revenue is N550,000\")\n"
   ]
  }
 ],
 "metadata": {
  "kernelspec": {
   "display_name": "Python 3",
   "language": "python",
   "name": "python3"
  },
  "language_info": {
   "codemirror_mode": {
    "name": "ipython",
    "version": 3
   },
   "file_extension": ".py",
   "mimetype": "text/x-python",
   "name": "python",
   "nbconvert_exporter": "python",
   "pygments_lexer": "ipython3",
   "version": "3.10.8"
  },
  "orig_nbformat": 4
 },
 "nbformat": 4,
 "nbformat_minor": 2
}
