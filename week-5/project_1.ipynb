{
 "cells": [
  {
   "cell_type": "code",
   "execution_count": 1,
   "metadata": {},
   "outputs": [
    {
     "name": "stdout",
     "output_type": "stream",
     "text": [
      "boys list is\n",
      "charles|19|5.7|74\n",
      "jude|16|5.9|87\n",
      "james|18|5.8|75\n",
      "kelvin|17|6.1|68\n",
      "Biodun|20|5.9|66\n",
      "wale|19|5.5|78\n",
      "kunle|16|6.1|87\n",
      "matthew|18|5.4|98\n",
      "tom|17|5.8|54\n",
      "kayode|19|5.7|60\n",
      "\n",
      "girls list is\n",
      "samantha|17|5.5|80\n",
      "jada|16|6.0|85\n",
      "jane|17|5.4|70\n",
      "claire|18|5.9|60\n",
      "Elizabeth|16|5.6|76\n",
      "mary|18|5.5|66\n",
      "susan|17|6.1|87\n",
      "waje|20|6.0|95\n",
      "taibat|19|5.7|50\n",
      "lilian|17|5.5|49\n"
     ]
    }
   ],
   "source": [
    "boys = ['charles','jude','james','kelvin','Biodun','wale','kunle','matthew','tom','kayode']\n",
    "girls = ['samantha','jada','jane','claire','Elizabeth','mary','susan','waje','taibat','lilian']\n",
    "girlsage = [17,16,17,18,16,18,17,20,19,17]\n",
    "boysage = [19,16,18,17,20,19,16,18,17,19]\n",
    "girlsheight = [5.5,6.0,5.4,5.9,5.6,5.5,6.1,6.0,5.7,5.5]\n",
    "boysheight = [5.7,5.9,5.8,6.1,5.9,5.5,6.1,5.4,5.8,5.7]\n",
    "girlsscore = [80,85,70,60,76,66,87,95,50,49]\n",
    "boysscore = [74,87,75,68,66,78,87,98,54,60]\n",
    "print ('boys list is')\n",
    "for i in range(0,len(boys)):\n",
    "    print(f'{boys[i]}|{boysage[i]}|{boysheight[i]}|{boysscore[i]}')\n",
    "print()\n",
    "print ('girls list is')\n",
    "for i in range(0,len(girls)):\n",
    "    print(f'{girls[i]}|{girlsage[i]}|{girlsheight[i]}|{girlsscore[i]}')"
   ]
  }
 ],
 "metadata": {
  "kernelspec": {
   "display_name": "Python 3",
   "language": "python",
   "name": "python3"
  },
  "language_info": {
   "codemirror_mode": {
    "name": "ipython",
    "version": 3
   },
   "file_extension": ".py",
   "mimetype": "text/x-python",
   "name": "python",
   "nbconvert_exporter": "python",
   "pygments_lexer": "ipython3",
   "version": "3.10.8"
  },
  "orig_nbformat": 4
 },
 "nbformat": 4,
 "nbformat_minor": 2
}
